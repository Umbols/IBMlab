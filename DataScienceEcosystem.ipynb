{
 "cells": [
  {
   "cell_type": "markdown",
   "id": "1d9b580a",
   "metadata": {},
   "source": [
    "# Data Science Tools and Ecosystem\n",
    "\n",
    "In this noteboook, Data Science Tools and Ecosystem are summarized."
   ]
  },
  {
   "cell_type": "markdown",
   "id": "7598d747",
   "metadata": {},
   "source": [
    "**Objectives:**\n",
    "* List popular languages for Data Science\n",
    "* List commonly used libraries for Data Science\n",
    "* Table of three development environment open source tools for Data Science\n",
    "* Simple arithmetic expression to multiply then add integers\n",
    "* Convert 200 minutes to hours \n"
   ]
  },
  {
   "cell_type": "markdown",
   "id": "d17c4fb4",
   "metadata": {},
   "source": [
    "Some of the popular languages that Data Scientists use are:\n",
    "1. Python\n",
    "2. Structured query language (SQL)\n",
    "3. R\n",
    "4. JavaScript\n",
    "5. Julia"
   ]
  },
  {
   "cell_type": "markdown",
   "id": "d6bab84c",
   "metadata": {},
   "source": [
    "Some of the commonly used libraries used by Data Scientists include:\n",
    "1. NumPy\n",
    "2. Pandas\n",
    "3. Matplotlib\n",
    "4. SciKit-Learn\n",
    "5. Keras"
   ]
  },
  {
   "cell_type": "markdown",
   "id": "b71817ce",
   "metadata": {},
   "source": [
    "| Data Science Tools | \n",
    "|:------------------:|\n",
    "| Jupyter Notebooks  | \n",
    "|      RStudio       |  \n",
    "| Zeppelin Notebooks | "
   ]
  },
  {
   "cell_type": "markdown",
   "id": "45bd2753",
   "metadata": {},
   "source": [
    "### Below are a few examples of evaluating arithmetic expressions in Python"
   ]
  },
  {
   "cell_type": "markdown",
   "id": "db9414dc",
   "metadata": {},
   "source": [
    "This a simple arithmetic expression to multiply then add integers."
   ]
  },
  {
   "cell_type": "code",
   "execution_count": 3,
   "id": "b7af2441",
   "metadata": {},
   "outputs": [
    {
     "data": {
      "text/plain": [
       "17"
      ]
     },
     "execution_count": 3,
     "metadata": {},
     "output_type": "execute_result"
    }
   ],
   "source": [
    "(3*4)+5"
   ]
  },
  {
   "cell_type": "markdown",
   "id": "da98cd81",
   "metadata": {},
   "source": [
    "This will convert 200 minutes to hours by dividing by 60."
   ]
  },
  {
   "cell_type": "code",
   "execution_count": 8,
   "id": "135e7359",
   "metadata": {},
   "outputs": [
    {
     "name": "stdout",
     "output_type": "stream",
     "text": [
      "3.3333333333333335 hours\n"
     ]
    }
   ],
   "source": [
    "mnt = 200\n",
    "hrs = mnt/60\n",
    "print(hrs,\"hours\")"
   ]
  },
  {
   "cell_type": "markdown",
   "id": "5e4d413b",
   "metadata": {},
   "source": [
    "## Author\n",
    "Anabel Geraldine"
   ]
  },
  {
   "cell_type": "code",
   "execution_count": null,
   "id": "9b8139b2",
   "metadata": {},
   "outputs": [],
   "source": []
  }
 ],
 "metadata": {
  "kernelspec": {
   "display_name": "Python 3 (ipykernel)",
   "language": "python",
   "name": "python3"
  },
  "language_info": {
   "codemirror_mode": {
    "name": "ipython",
    "version": 3
   },
   "file_extension": ".py",
   "mimetype": "text/x-python",
   "name": "python",
   "nbconvert_exporter": "python",
   "pygments_lexer": "ipython3",
   "version": "3.9.12"
  }
 },
 "nbformat": 4,
 "nbformat_minor": 5
}
